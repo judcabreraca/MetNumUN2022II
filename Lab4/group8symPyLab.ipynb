{
  "nbformat": 4,
  "nbformat_minor": 0,
  "metadata": {
    "colab": {
      "provenance": [],
      "collapsed_sections": [],
      "include_colab_link": true
    },
    "kernelspec": {
      "name": "python3",
      "display_name": "Python 3"
    }
  },
  "cells": [
    {
      "cell_type": "markdown",
      "metadata": {
        "id": "view-in-github",
        "colab_type": "text"
      },
      "source": [
        "<a href=\"https://colab.research.google.com/github/judcabreraca/MetNumUN2022II/blob/main/Lab4/group8symPyLab.ipynb\" target=\"_parent\"><img src=\"https://colab.research.google.com/assets/colab-badge.svg\" alt=\"Open In Colab\"/></a>"
      ]
    },
    {
      "cell_type": "markdown",
      "metadata": {
        "id": "vtY1shFnMal_"
      },
      "source": [
        "# SymPyLab\n",
        "\n",
        "SymPy’s documentation\n",
        "- https://docs.sympy.org/latest/index.html\n"
      ]
    },
    {
      "cell_type": "markdown",
      "metadata": {
        "id": "2U0fAIf5G4rR"
      },
      "source": [
        "## SymPy’s polynomials \n",
        "- https://docs.sympy.org/latest/modules/polys/basics.html#polynomials \n",
        "\n",
        "$$ P_n(x) =  a_n x^n + a_{n-1} x^{n-1} + a_{n-2} x^{n-2} +\\cdots +  a_1 x  + a_0$$\n",
        "\n",
        "$$P_n(x) = 0 $$\n",
        "\n",
        "$$a_n x^n + a_{n-1} x^{n-1} + a_{n-2} x^{n-2} +\\cdots +  a_1 x  + a_0 = 0$$\n",
        "\n",
        "$$(x-r_1) Q_{n-1}(x) = P_n(x)$$\n",
        "$$(x-r_1) (x - r_2) Q_{n-2}(x) = P_n(x)$$\n",
        "$$ \\vdots $$\n",
        "\n",
        "- (x-1)(x-2)(x-3)(x-4)(x-5) = x^5 - 15 x^4  + 85 x^3 - 225 x^2 + 274 x - 120\n",
        "\n",
        "- (x^5 - 15 x^4  + 85 x^3 - 225 x^2 + 274 x - 120) / (x-1) = x^4  - 14 x^3  + 71 x^2  - 154 x + 120"
      ]
    },
    {
      "cell_type": "markdown",
      "metadata": {
        "id": "GSRpl42A6UXg"
      },
      "source": [
        "<img src=\"https://raw.githubusercontent.com/gjhernandezp/NM/main/SymPyLab/sympylabwolfram1.jpg\" /> <img src=\"https://raw.githubusercontent.com/gjhernandezp/NM/main/SymPyLab/sympylabwolfram2.jpg\" />\n"
      ]
    },
    {
      "cell_type": "code",
      "source": [
        "import sympy as spy\n",
        "from sympy import div\n",
        "\n",
        "x = Symbol('x')\n",
        "\n",
        "p = (x-1)*(x-2)*(x-3)*(x-4)*(x-5)*(x-6)*(x-7)\n",
        "p.as_poly()"
      ],
      "metadata": {
        "colab": {
          "base_uri": "https://localhost:8080/",
          "height": 38
        },
        "id": "XUtRoUDYzlW_",
        "outputId": "167c91ba-2e7b-4290-fd2e-b3ebae15c158"
      },
      "execution_count": 11,
      "outputs": [
        {
          "output_type": "execute_result",
          "data": {
            "text/plain": [
              "Poly(x**7 - 28*x**6 + 322*x**5 - 1960*x**4 + 6769*x**3 - 13132*x**2 + 13068*x - 5040, x, domain='ZZ')"
            ],
            "text/latex": "$\\displaystyle \\operatorname{Poly}{\\left( x^{7} - 28 x^{6} + 322 x^{5} - 1960 x^{4} + 6769 x^{3} - 13132 x^{2} + 13068 x - 5040, x, domain=\\mathbb{Z} \\right)}$"
          },
          "metadata": {},
          "execution_count": 11
        }
      ]
    },
    {
      "cell_type": "code",
      "metadata": {
        "id": "Fw1yPZWLMb5P",
        "colab": {
          "base_uri": "https://localhost:8080/"
        },
        "outputId": "d063320a-0a7b-47d6-c440-42a0df50a5e6"
      },
      "source": [
        "from sympy import Symbol\n",
        "from sympy import div\n",
        "\n",
        "x = Symbol('x')\n",
        "\n",
        "p = x**7 - 28*x**6 + 322*x**5 - 1960*x**4  + 6769*x**3 - 13132*x**2 + 13068*x - 5040\n",
        "\n",
        "p, r = div(p,  x-1)\n",
        "\n",
        "print(p)\n",
        "print(r)\n",
        "\n",
        "p, r = div(p,  x-2)\n",
        "\n",
        "print(p)\n",
        "print(r)\n",
        "\n",
        "p, r = div(p,  x-3)\n",
        "\n",
        "print(p)\n",
        "print(r)\n",
        "\n",
        "p, r = div(p,  x-4)\n",
        "\n",
        "print(p)\n",
        "print(r)\n",
        "\n"
      ],
      "execution_count": 12,
      "outputs": [
        {
          "output_type": "stream",
          "name": "stdout",
          "text": [
            "x**6 - 27*x**5 + 295*x**4 - 1665*x**3 + 5104*x**2 - 8028*x + 5040\n",
            "0\n",
            "x**5 - 25*x**4 + 245*x**3 - 1175*x**2 + 2754*x - 2520\n",
            "0\n",
            "x**4 - 22*x**3 + 179*x**2 - 638*x + 840\n",
            "0\n",
            "x**3 - 18*x**2 + 107*x - 210\n",
            "0\n"
          ]
        }
      ]
    },
    {
      "cell_type": "code",
      "metadata": {
        "colab": {
          "base_uri": "https://localhost:8080/"
        },
        "id": "gQ-VwywTarYw",
        "outputId": "c3af620f-ac99-44ef-a1aa-652a10f6cf13"
      },
      "source": [
        "p = x**7 - 28*x**6 + 322*x**5 - 1960*x**4  + 6769*x**3 - 13132*x**2 + 13068*x - 5040\n",
        "\n",
        "p, r = div(p,  x-10)\n",
        "\n",
        "print(p)\n",
        "print(r)"
      ],
      "execution_count": 15,
      "outputs": [
        {
          "output_type": "stream",
          "name": "stdout",
          "text": [
            "x**6 - 18*x**5 + 142*x**4 - 540*x**3 + 1369*x**2 + 558*x + 18648\n",
            "181440\n"
          ]
        }
      ]
    },
    {
      "cell_type": "markdown",
      "metadata": {
        "id": "LrP1xT6VKZrE"
      },
      "source": [
        "## SymPy’s polynomial simple univariate polynomial factorization\n",
        "- https://docs.sympy.org/latest/modules/polys/wester.html#simple-univariate-polynomial-factorization\n",
        "- factor(x\\*\\*5 - 15\\*x\\*\\*4  + 85\\*x\\*\\*3 - 225\\*x\\*\\*2 + 274\\*x - 120)"
      ]
    },
    {
      "cell_type": "markdown",
      "metadata": {
        "id": "2NPChCoPLsls"
      },
      "source": [
        "<img src=\"https://raw.githubusercontent.com/gjhernandezp/NM/main/SymPyLab/sympylabwolfram3.jpg\" />\n",
        "\n"
      ]
    },
    {
      "cell_type": "code",
      "metadata": {
        "id": "i2vHjXOIKvQu",
        "colab": {
          "base_uri": "https://localhost:8080/",
          "height": 38
        },
        "outputId": "54aba1da-9b59-4105-9291-c40593ee66a6"
      },
      "source": [
        "from sympy import Symbol,factor\n",
        "x = Symbol('x')\n",
        "factor(x**7 - 28*x**6 + 322*x**5 - 1960*x**4  + 6769*x**3 - 13132*x**2 + 13068*x - 5040)"
      ],
      "execution_count": 17,
      "outputs": [
        {
          "output_type": "execute_result",
          "data": {
            "text/plain": [
              "(x - 7)*(x - 6)*(x - 5)*(x - 4)*(x - 3)*(x - 2)*(x - 1)"
            ],
            "text/latex": "$\\displaystyle \\left(x - 7\\right) \\left(x - 6\\right) \\left(x - 5\\right) \\left(x - 4\\right) \\left(x - 3\\right) \\left(x - 2\\right) \\left(x - 1\\right)$"
          },
          "metadata": {},
          "execution_count": 17
        }
      ]
    },
    {
      "cell_type": "markdown",
      "metadata": {
        "id": "xoq8A5ipMdRa"
      },
      "source": [
        "## SymPy’s solvers\n",
        "- https://docs.sympy.org/latest/tutorial/solvers.html\n",
        "- x\\*\\*5 - 15\\*x\\*\\*4  + 85\\*x\\*\\* 3 - 225\\*x\\*\\* 2 + 274\\*x - 120 = 0"
      ]
    },
    {
      "cell_type": "markdown",
      "metadata": {
        "id": "UpEjlqXZMk8i"
      },
      "source": [
        "<img src=\"https://raw.githubusercontent.com/gjhernandezp/NM/main/SymPyLab/sympylabwolfram4.jpg\" />\n"
      ]
    },
    {
      "cell_type": "code",
      "metadata": {
        "id": "DLzUsS8YMlNK",
        "colab": {
          "base_uri": "https://localhost:8080/",
          "height": 37
        },
        "outputId": "c486768f-fb73-44b5-ffab-2a789390a499"
      },
      "source": [
        "from sympy import Symbol, solveset, Eq\n",
        "x = Symbol('x')\n",
        "solveset(Eq(x**7 - 28*x**6 + 322*x**5 - 1960*x**4  + 6769*x**3 - 13132*x**2 + 13068*x - 5040, 0), x)\n"
      ],
      "execution_count": 18,
      "outputs": [
        {
          "output_type": "execute_result",
          "data": {
            "text/plain": [
              "FiniteSet(1, 2, 3, 4, 5, 6, 7)"
            ],
            "text/latex": "$\\displaystyle \\left\\{1, 2, 3, 4, 5, 6, 7\\right\\}$"
          },
          "metadata": {},
          "execution_count": 18
        }
      ]
    },
    {
      "cell_type": "markdown",
      "source": [
        "<img src=\"https://raw.githubusercontent.com/gjhernandezp/NM/main/SymPyLab/sympylabwolfram5.jpg\" />\n"
      ],
      "metadata": {
        "id": "pi7rUwG472tc"
      }
    },
    {
      "cell_type": "code",
      "metadata": {
        "colab": {
          "base_uri": "https://localhost:8080/",
          "height": 81
        },
        "id": "ALzYmizCcXvv",
        "outputId": "a9562f70-e5cb-406d-eafb-45a5e8c7e79b"
      },
      "source": [
        "from sympy import Symbol, solveset, Eq, sqrt, pi\n",
        "x = Symbol('x')\n",
        "solveset(Eq(x**2 - (sqrt(2)+2*pi)*x + (sqrt(2)-2*pi) , 0), x)\n"
      ],
      "execution_count": 19,
      "outputs": [
        {
          "output_type": "execute_result",
          "data": {
            "text/plain": [
              "FiniteSet(sqrt(2)/2 + pi + sqrt(-4*sqrt(2) + 8*pi + (sqrt(2) + 2*pi)**2)/2, -sqrt(-4*sqrt(2) + 8*pi + (sqrt(2) + 2*pi)**2)/2 + sqrt(2)/2 + pi)"
            ],
            "text/latex": "$\\displaystyle \\left\\{\\frac{\\sqrt{2}}{2} + \\pi + \\frac{\\sqrt{- 4 \\sqrt{2} + 8 \\pi + \\left(\\sqrt{2} + 2 \\pi\\right)^{2}}}{2}, - \\frac{\\sqrt{- 4 \\sqrt{2} + 8 \\pi + \\left(\\sqrt{2} + 2 \\pi\\right)^{2}}}{2} + \\frac{\\sqrt{2}}{2} + \\pi\\right\\}$"
          },
          "metadata": {},
          "execution_count": 19
        }
      ]
    },
    {
      "cell_type": "markdown",
      "metadata": {
        "id": "kw48-B_Z_vQc"
      },
      "source": [
        "*   Reference docs for the Poly Domains https://docs.sympy.org/dev/modules/polys/domainsref.html\n",
        "\n",
        "*   Introducing the Domains of the poly module https://docs.sympy.org/dev/modules/polys/domainsintro.html\n",
        "\n",
        "*   Internals of the Polynomial Manipulation Module https://docs.sympy.org/latest/modules/polys/internals.html"
      ]
    },
    {
      "cell_type": "markdown",
      "source": [
        "<img src=\"https://raw.githubusercontent.com/gjhernandezp/NM/main/SymPyLab/sympylabwolfram6.jpg\" />"
      ],
      "metadata": {
        "id": "G4hb9Ak_-ujE"
      }
    },
    {
      "cell_type": "code",
      "source": [
        "from sympy import Symbol,factor\n",
        "x = Symbol('x')\n",
        "factor(x**7 - 28*x**6 + 322*x**5 - 1960*x**4  + 6769*x**3 - 13132*x**2 + 13068*x - 5040,domain='GF(2)')"
      ],
      "metadata": {
        "colab": {
          "base_uri": "https://localhost:8080/",
          "height": 39
        },
        "id": "EdK4Tfz0-dLW",
        "outputId": "0ae9331f-ff31-4fb1-80c9-d9dc00d758b1"
      },
      "execution_count": 20,
      "outputs": [
        {
          "output_type": "execute_result",
          "data": {
            "text/plain": [
              "x**3*(x + 1)**4"
            ],
            "text/latex": "$\\displaystyle x^{3} \\left(x + 1\\right)^{4}$"
          },
          "metadata": {},
          "execution_count": 20
        }
      ]
    },
    {
      "cell_type": "markdown",
      "metadata": {
        "id": "OtsxSwPmV3Vs"
      },
      "source": [
        "## SymPy’s Symbolic and Numercical Complex Evaluations\n",
        "- https://docs.sympy.org/latest/modules/evalf.html](https://)\n",
        "- x = x1 + I*x2,y = y1 + I*y2, z = z1 + I*z2, x*y*z"
      ]
    },
    {
      "cell_type": "markdown",
      "metadata": {
        "id": "XxWt-AcaZxdp"
      },
      "source": [
        "<img src=\"https://raw.githubusercontent.com/gjhernandezp/NM/main/SymPyLab/sympylabwolfram7.jpg\" />"
      ]
    },
    {
      "cell_type": "code",
      "metadata": {
        "id": "ENDQbfLGV31r",
        "colab": {
          "base_uri": "https://localhost:8080/"
        },
        "outputId": "b3635f6b-6212-437e-8a20-0c3d05355a99"
      },
      "source": [
        "from sympy import symbols, I, N, pi, expand\n",
        "x1, x2, y1, y2, z1, z2 = symbols(\"x1 x2 y1 y2 z1 z2\", real=True)  \n",
        "x = x1 + I*x2\n",
        "y = y1 + I*y2\n",
        "z = z1 + I*z2\n",
        "\n",
        "print(x*y*z)\n",
        "print(expand(x*y*z))\n",
        "print(expand((x*y)*z))\n",
        "print(expand(x*(y*z)))\n",
        "\n",
        "w=N(1/(2*pi + I), 20)\n",
        "print('w=',w)"
      ],
      "execution_count": 21,
      "outputs": [
        {
          "output_type": "stream",
          "name": "stdout",
          "text": [
            "(x1 + I*x2)*(y1 + I*y2)*(z1 + I*z2)\n",
            "x1*y1*z1 + I*x1*y1*z2 + I*x1*y2*z1 - x1*y2*z2 + I*x2*y1*z1 - x2*y1*z2 - x2*y2*z1 - I*x2*y2*z2\n",
            "x1*y1*z1 + I*x1*y1*z2 + I*x1*y2*z1 - x1*y2*z2 + I*x2*y1*z1 - x2*y1*z2 - x2*y2*z1 - I*x2*y2*z2\n",
            "x1*y1*z1 + I*x1*y1*z2 + I*x1*y2*z1 - x1*y2*z2 + I*x2*y1*z1 - x2*y1*z2 - x2*y2*z1 - I*x2*y2*z2\n",
            "w= 0.15522309613464761544 - 0.024704523031857640098*I\n"
          ]
        }
      ]
    },
    {
      "cell_type": "markdown",
      "metadata": {
        "id": "eaqIgmnkPNVT"
      },
      "source": [
        "## Wolfram alpha answers quastion in natural languaje\n",
        "- What is the average temperature in Bogota in September?\n",
        "\n",
        "<img src=\"https://raw.githubusercontent.com/gjhernandezp/NM/main/SymPyLab/sympylabwolfram8.jpg\" />"
      ]
    },
    {
      "cell_type": "markdown",
      "source": [
        "## SymPy’s integrate\n",
        "\n",
        "<img src=\"https://raw.githubusercontent.com/gjhernandezp/NM/main/SymPyLab/sympylabwolfram9.jpg\" />\n",
        "\n"
      ],
      "metadata": {
        "id": "FIbSSOvEC8R0"
      }
    },
    {
      "cell_type": "code",
      "source": [
        "from sympy import Symbol, integrate, sin\n",
        "x = Symbol('x')\n",
        "integrate(x**4 * sin(x)**2, x)"
      ],
      "metadata": {
        "colab": {
          "base_uri": "https://localhost:8080/",
          "height": 55
        },
        "id": "p5wwxfa7BtzU",
        "outputId": "b81bafc8-aab1-45b7-d360-2f03cfee1447"
      },
      "execution_count": 22,
      "outputs": [
        {
          "output_type": "execute_result",
          "data": {
            "text/plain": [
              "x**5*sin(x)**2/10 + x**5*cos(x)**2/10 - x**4*sin(x)*cos(x)/2 + x**3*sin(x)**2/2 - x**3*cos(x)**2/2 + 3*x**2*sin(x)*cos(x)/2 - 3*x*sin(x)**2/4 + 3*x*cos(x)**2/4 - 3*sin(x)*cos(x)/4"
            ],
            "text/latex": "$\\displaystyle \\frac{x^{5} \\sin^{2}{\\left(x \\right)}}{10} + \\frac{x^{5} \\cos^{2}{\\left(x \\right)}}{10} - \\frac{x^{4} \\sin{\\left(x \\right)} \\cos{\\left(x \\right)}}{2} + \\frac{x^{3} \\sin^{2}{\\left(x \\right)}}{2} - \\frac{x^{3} \\cos^{2}{\\left(x \\right)}}{2} + \\frac{3 x^{2} \\sin{\\left(x \\right)} \\cos{\\left(x \\right)}}{2} - \\frac{3 x \\sin^{2}{\\left(x \\right)}}{4} + \\frac{3 x \\cos^{2}{\\left(x \\right)}}{4} - \\frac{3 \\sin{\\left(x \\right)} \\cos{\\left(x \\right)}}{4}$"
          },
          "metadata": {},
          "execution_count": 22
        }
      ]
    },
    {
      "cell_type": "markdown",
      "source": [
        "<img src=\"https://raw.githubusercontent.com/gjhernandezp/NM/main/SymPyLab/sympylabwolfram10.jpg\" />"
      ],
      "metadata": {
        "id": "JkW8LPxbD2Eq"
      }
    },
    {
      "cell_type": "code",
      "source": [
        "from sympy import Symbol, integrate, sin\n",
        "x = Symbol('x')\n",
        "integrate(x**4 * sin(x)**3, (x,1,5))\n"
      ],
      "metadata": {
        "colab": {
          "base_uri": "https://localhost:8080/",
          "height": 93
        },
        "id": "EoipdE0UD7Aa",
        "outputId": "339d830f-b195-496d-b5b8-05b769efd07f"
      },
      "execution_count": 23,
      "outputs": [
        {
          "output_type": "execute_result",
          "data": {
            "text/plain": [
              "8060*sin(5)**3/27 - 11063*sin(5)**2*cos(5)/27 + 2200*sin(5)*cos(5)**2/9 - 17206*cos(5)**3/81 + 790*cos(1)**3/81 + 136*sin(1)*cos(1)**2/9 + 263*sin(1)**2*cos(1)/27 + 404*sin(1)**3/27"
            ],
            "text/latex": "$\\displaystyle \\frac{8060 \\sin^{3}{\\left(5 \\right)}}{27} - \\frac{11063 \\sin^{2}{\\left(5 \\right)} \\cos{\\left(5 \\right)}}{27} + \\frac{2200 \\sin{\\left(5 \\right)} \\cos^{2}{\\left(5 \\right)}}{9} - \\frac{17206 \\cos^{3}{\\left(5 \\right)}}{81} + \\frac{790 \\cos^{3}{\\left(1 \\right)}}{81} + \\frac{136 \\sin{\\left(1 \\right)} \\cos^{2}{\\left(1 \\right)}}{9} + \\frac{263 \\sin^{2}{\\left(1 \\right)} \\cos{\\left(1 \\right)}}{27} + \\frac{404 \\sin^{3}{\\left(1 \\right)}}{27}$"
          },
          "metadata": {},
          "execution_count": 23
        }
      ]
    },
    {
      "cell_type": "code",
      "source": [
        "from sympy import Symbol, integrate, sin, N\n",
        "x = Symbol('x')\n",
        "N(integrate(x**4 * sin(x)**3, (x,1,5)))\n"
      ],
      "metadata": {
        "colab": {
          "base_uri": "https://localhost:8080/",
          "height": 37
        },
        "id": "rFRmuWfnEPWb",
        "outputId": "89a7e4d5-7983-4827-ac65-975389bb9049"
      },
      "execution_count": 24,
      "outputs": [
        {
          "output_type": "execute_result",
          "data": {
            "text/plain": [
              "-375.916332463212"
            ],
            "text/latex": "$\\displaystyle -375.916332463212$"
          },
          "metadata": {},
          "execution_count": 24
        }
      ]
    }
  ]
}