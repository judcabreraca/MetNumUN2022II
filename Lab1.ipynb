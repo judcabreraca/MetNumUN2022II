{
  "nbformat": 4,
  "nbformat_minor": 0,
  "metadata": {
    "colab": {
      "name": "Lab1.ipynb",
      "provenance": []
    },
    "kernelspec": {
      "name": "python3",
      "display_name": "Python 3"
    },
    "language_info": {
      "name": "python"
    }
  },
  "cells": [
    {
      "cell_type": "markdown",
      "source": [
        "Lesson 1\n",
        "Basic Variable Types"
      ],
      "metadata": {
        "id": "86gKRP2UfiGQ"
      }
    },
    {
      "cell_type": "code",
      "execution_count": null,
      "metadata": {
        "id": "6L4HMKEffUt_",
        "colab": {
          "base_uri": "https://localhost:8080/",
          "height": 1000
        },
        "outputId": "ac9f8f0d-2b7e-4e45-e5e3-9bf52373f8c7"
      },
      "outputs": [
        {
          "output_type": "stream",
          "name": "stdout",
          "text": [
            "Metodos Numericos\n",
            "<class 'float'>\n",
            "9\n",
            "['metodos', 'grupo', 1]\n",
            "1\n",
            "3\n",
            "['metodos', 'grupo', 'GRP']\n",
            "['metodos', 'grupo', 'GRP', 'UN']\n",
            "('Numericos', 'Grupo', 1, 'Unal')\n",
            "laugh out loud\n",
            "dict_keys(['tbh', 'asap', 'lol'])\n",
            " lava la tina\n",
            "0\n",
            "4\n",
            "Anite leve le tine\n",
            "['2016,04,01', '09:43:00']\n",
            "{'AA', 'F', 'OLL', 'IBM', 'GOOG', 'GO'}\n",
            "Mes: 10, Dia:31\n",
            "the e number is 2.718280\n",
            "('2', '3', '4', '5', '6')\n",
            "['metodos', 'grupo', 'GRP']\n",
            "['metodos', 'grupo']\n",
            "0.43333333333333335\n",
            "50 <class 'int'>\n",
            "1.0 <class 'float'>\n",
            "2\n",
            "con comillas sencillas\n",
            "con comillas dobles\n",
            "Suma:  2\n",
            "Resta:  4\n",
            "Multiplicacion:  10\n",
            "Division:  10.0\n",
            "Potencia:  9\n",
            "Residuo:  3\n",
            "0.5348837209302325\n",
            "False\n",
            "True\n",
            "True\n",
            "True\n",
            "False\n",
            "True\n",
            "i=!0 es True\n",
            "q es falso\n",
            "0\n",
            "2\n",
            "4\n",
            "0\n",
            "2\n",
            "4\n",
            "6\n",
            "8\n",
            "1\n",
            "2\n",
            "3\n",
            "4\n",
            "1\n",
            "2\n",
            "3\n",
            "4\n",
            "5\n",
            "6\n",
            "7\n",
            "8\n",
            "9\n",
            "[1, 4, 9, 16, 25]\n",
            "[1, 8, 27, 64, 125]\n",
            "[13.73 15.83 13.8  14.02 13.5  12.62] <class 'numpy.ndarray'>\n",
            "[[1 3 5]\n",
            " [2 4 4]] <class 'numpy.ndarray'>\n",
            "(2, 3)\n",
            "[1 3 5]\n",
            "[2 4 4]\n",
            "[1 2]\n",
            "[3 4]\n",
            "[5 4]\n",
            "[2.61958322 2.76190687 2.62466859 2.64048488 2.60268969 2.53528286]\n",
            "13.916666666666666\n",
            "0.96392715261868\n",
            "83.5\n",
            "15.83\n",
            "5    15.83\n",
            "4    13.80\n",
            "3    14.02\n",
            "2    13.50\n",
            "1    12.62\n",
            "dtype: float64\n",
            "6    13.73\n",
            "5    15.83\n",
            "4    13.80\n",
            "3    14.02\n",
            "dtype: float64\n",
            "13.5\n",
            "6    13.73\n",
            "5    15.83\n",
            "4    13.80\n",
            "3    14.02\n",
            "2     0.00\n",
            "1    12.62\n",
            "dtype: float64\n",
            "0    13.73\n",
            "1    15.83\n",
            "2    13.80\n",
            "3    14.02\n",
            "4    13.50\n",
            "5    12.62\n",
            "Name: numeros aleatorios, dtype: float64\n",
            "numeros aleatorios\n",
            "count     6.000000\n",
            "mean     13.916667\n",
            "std       1.055929\n",
            "min      12.620000\n",
            "25%      13.557500\n",
            "50%      13.765000\n",
            "75%      13.965000\n",
            "max      15.830000\n",
            "Name: numeros aleatorios, dtype: float64\n",
            "DatetimeIndex(['2022-08-31', '2022-09-30', '2022-10-31', '2022-11-30',\n",
            "               '2022-12-31', '2023-01-31'],\n",
            "              dtype='datetime64[ns]', freq='M')\n",
            "2022-08-31    13.73\n",
            "2022-09-30    15.83\n",
            "2022-10-31    13.80\n",
            "2022-11-30    14.02\n",
            "2022-12-31    13.50\n",
            "2023-01-31    12.62\n",
            "Freq: M, Name: numeros aleatorios, dtype: float64\n",
            "6    13.73\n",
            "5    15.83\n",
            "4    13.80\n",
            "3    14.02\n",
            "2    13.50\n",
            "1    12.62\n",
            "Name: numeros aleatorios, dtype: float64\n",
            "12.62\n",
            "15.83\n",
            "Looking in indexes: https://pypi.org/simple, https://us-python.pkg.dev/colab-wheels/public/simple/\n",
            "Collecting yfinance\n",
            "  Downloading yfinance-0.1.74-py2.py3-none-any.whl (27 kB)\n",
            "Requirement already satisfied: pandas>=0.24.0 in /usr/local/lib/python3.7/dist-packages (from yfinance) (1.3.5)\n",
            "Requirement already satisfied: numpy>=1.15 in /usr/local/lib/python3.7/dist-packages (from yfinance) (1.21.6)\n",
            "Requirement already satisfied: multitasking>=0.0.7 in /usr/local/lib/python3.7/dist-packages (from yfinance) (0.0.11)\n",
            "Collecting requests>=2.26\n",
            "  Downloading requests-2.28.1-py3-none-any.whl (62 kB)\n",
            "\u001b[K     |████████████████████████████████| 62 kB 688 kB/s \n",
            "\u001b[?25hRequirement already satisfied: lxml>=4.5.1 in /usr/local/lib/python3.7/dist-packages (from yfinance) (4.9.1)\n",
            "Requirement already satisfied: pytz>=2017.3 in /usr/local/lib/python3.7/dist-packages (from pandas>=0.24.0->yfinance) (2022.2.1)\n",
            "Requirement already satisfied: python-dateutil>=2.7.3 in /usr/local/lib/python3.7/dist-packages (from pandas>=0.24.0->yfinance) (2.8.2)\n",
            "Requirement already satisfied: six>=1.5 in /usr/local/lib/python3.7/dist-packages (from python-dateutil>=2.7.3->pandas>=0.24.0->yfinance) (1.15.0)\n",
            "Requirement already satisfied: certifi>=2017.4.17 in /usr/local/lib/python3.7/dist-packages (from requests>=2.26->yfinance) (2022.6.15)\n",
            "Requirement already satisfied: charset-normalizer<3,>=2 in /usr/local/lib/python3.7/dist-packages (from requests>=2.26->yfinance) (2.1.0)\n",
            "Requirement already satisfied: idna<4,>=2.5 in /usr/local/lib/python3.7/dist-packages (from requests>=2.26->yfinance) (2.10)\n",
            "Requirement already satisfied: urllib3<1.27,>=1.21.1 in /usr/local/lib/python3.7/dist-packages (from requests>=2.26->yfinance) (1.24.3)\n",
            "Installing collected packages: requests, yfinance\n",
            "  Attempting uninstall: requests\n",
            "    Found existing installation: requests 2.23.0\n",
            "    Uninstalling requests-2.23.0:\n",
            "      Successfully uninstalled requests-2.23.0\n",
            "Successfully installed requests-2.28.1 yfinance-0.1.74\n",
            "[*********************100%***********************]  1 of 1 completed\n"
          ]
        },
        {
          "output_type": "execute_result",
          "data": {
            "text/plain": [
              "(array([ 3.,  1.,  6., 11., 14., 21., 16.,  5., 11.,  4.,  6.,  2.,  0.,\n",
              "         0.,  0.,  0.,  1.,  1.,  0.,  1.]),\n",
              " array([-0.02455922, -0.02050409, -0.01644896, -0.01239383, -0.00833871,\n",
              "        -0.00428358, -0.00022845,  0.00382667,  0.0078818 ,  0.01193693,\n",
              "         0.01599205,  0.02004718,  0.02410231,  0.02815743,  0.03221256,\n",
              "         0.03626769,  0.04032281,  0.04437794,  0.04843307,  0.05248819,\n",
              "         0.05654332]),\n",
              " <a list of 20 Patch objects>)"
            ]
          },
          "metadata": {},
          "execution_count": 1
        },
        {
          "output_type": "display_data",
          "data": {
            "text/plain": [
              "<Figure size 432x288 with 1 Axes>"
            ],
            "image/png": "[encoded data removed]"
          },
          "metadata": {
            "needs_background": "light"
          }
        }
      ],
      "source": [
        "string1 = 'Metodos'\n",
        "string2 = 'Numericos'\n",
        "print(string1 + ' ' + string2)\n",
        "string3 = \"32.3\"\n",
        "float1 = float(string3)\n",
        "print(type(float1))\n",
        "print(3**2)\n",
        "list1 = ['metodos', 'grupo', 1]\n",
        "print(list1)\n",
        "print(list1[2])\n",
        "print(len(list1))\n",
        "list1[2] = 'GRP'\n",
        "print(list1)\n",
        "list1.append('UN')\n",
        "print(list1)\n",
        "tuple = ('Metodos','Numericos','Grupo', 1, 'Unal')\n",
        "print(tuple[1:])\n",
        "dic = {'tbh':'to be honest', 'asap':'As soon as possible', 'lol':'laugh out loud'}\n",
        "print(dic['lol'])\n",
        "print(dic.keys())\n",
        "str1 =  'Anita lava la tina'\n",
        "print(str1[5:])\n",
        "print(str1.count('e'))\n",
        "print(str1.find('a'))# primera vez que aparece\n",
        "print(str1.replace('a','e'))\n",
        "str2 = '2016,04,01 09:43:00'\n",
        "splited_list = str2.split(' ')\n",
        "print(splited_list)\n",
        "st_list = ['AA','GO','AA','OLL','IBM','F','F','GOOG','GO','GOOG']\n",
        "st_set = set(st_list)\n",
        "print(st_set)\n",
        "time = 'Mes: {}, Dia:{}'.format('10','31')\n",
        "print(time)\n",
        "print('the e number is %f'%2.71828)\n",
        "tuple_2= ('1','2','3','4','5','6')\n",
        "print(tuple_2[1:])\n",
        "list1.remove('UN')\n",
        "print(list1)\n",
        "print(list1[:2])\n",
        "print(1.3/3)\n",
        "integer = 50\n",
        "print (integer, type(integer))\n",
        "float1 = float(1)\n",
        "print (float1, type(float1))\n",
        "euler = int(2.71828)\n",
        "print (euler)\n",
        "string = 'con comillas sencillas'\n",
        "print (string)\n",
        "string = \"con comillas dobles\"\n",
        "print (string)\n",
        "print ('Suma: ', 1 + 1)\n",
        "print ('Resta: ', 6 - 2)\n",
        "print ('Multiplicacion: ', 5 * 2)\n",
        "print ('Division: ', 20 / 2)\n",
        "print ('Potencia: ', 3**2)\n",
        "print ('Residuo: ', 15 % 6)\n",
        "int1 = 23\n",
        "int2 = 43\n",
        "print (int1/int2)\n",
        "import math\n",
        "print(3 == 0)\n",
        "print(3 == 3)\n",
        "print(1 != 56)\n",
        "print(6 >= 6)\n",
        "print(5 >= 6)\n",
        "#31 usos de parentesis\n",
        "print(3 > 2 or 1 < 3 and (1!=3 and 4>3) and not ( 3 < 2 or 1 < 3 and (4!=3 and 4>3)))\n",
        "#32\n",
        "i = 1\n",
        "if i != 0:\n",
        "    print('i=!0 es True')\n",
        "#33\n",
        "p = 3 > 2\n",
        "q = 1 > 3\n",
        "if p and q:\n",
        "    print('p Y q es true')\n",
        "elif p and not q:\n",
        "    print('q es falso')\n",
        "elif q and not p:\n",
        "    print('p is falso')\n",
        "else:\n",
        "    print('ninguna es cierta')\n",
        "#34 sumna de 2 en 2\n",
        "i = 0\n",
        "while i < 6:\n",
        "    print(i)\n",
        "    i += 2  \n",
        "#35\n",
        "for i in [0,2,4,6,8]:\n",
        "    print(i)\n",
        "#36\n",
        "stocks = [1,2,3,4,5,6,7,8,9]\n",
        "for i in stocks:\n",
        "    print(i)\n",
        "    if i == 4:\n",
        "        break\n",
        "#37\n",
        "stocks = [1,2,3,4,5,6,7,8,9]\n",
        "for i in stocks:\n",
        "    print(i)\n",
        "    if i == 4:\n",
        "        continue\n",
        "#38\n",
        "quad = []\n",
        "for i in [1,2,3,4,5]:\n",
        "    quad.append(i**2)\n",
        "print(quad)\n",
        "#39\n",
        "list1 = [1,2,3,4,5]\n",
        "squares = [x**3 for x in list1]\n",
        "print(squares)\n",
        "#40\n",
        "import numpy as np\n",
        "#41\n",
        "pl = [13.73, 15.83, 13.8, 14.02, 13.5, 12.62]\n",
        "p_array = np.array(pl)\n",
        "print(p_array, type(p_array))\n",
        "#42 matriz\n",
        "ar = np.array([[1,3,5],[2,4,4]])\n",
        "print(ar, type(ar))\n",
        "#43 saber las dimensiones de la matriz\n",
        "print(ar.shape)\n",
        "#44 acceder a la matriz\n",
        "print(ar[0])\n",
        "print(ar[1])\n",
        "#45 por columnas\n",
        "print( ar[:,0])\n",
        "print( ar[:,1])\n",
        "print( ar[:,2])\n",
        "#46 aplicar una operacion a cada elemento del arreglo\n",
        "print(np.log(p_array))\n",
        "#47 media,deviacion,suma y maximo\n",
        "print(np.mean(p_array))\n",
        "print(np.std(p_array))\n",
        "print(np.sum(p_array))\n",
        "print(np.max(p_array))\n",
        "#48\n",
        "import pandas as pd\n",
        "#49\n",
        "s = pd.Series(pl)\n",
        "s\n",
        "#50 personalizacion de indices\n",
        "s = pd.Series(pl,index = ['á','é','í','ó','ú','ä'])\n",
        "s\n",
        "# 51 forma alternaticva\n",
        "s.index = ['q', 'w', 'e', 'r', 't', 'y']\n",
        "s\n",
        "s.index = [6,5,4,3,2,1]\n",
        "#52 indices de serie\n",
        "print(s[1:])\n",
        "print(s[:-2])\n",
        "#53\n",
        "print(s[2])\n",
        "s[2] = 0\n",
        "print(s)\n",
        "\n",
        "s = pd.Series(pl, name = 'numeros aleatorios')\n",
        "print(s)\n",
        "print(s.name)\n",
        "print(s.describe())\n",
        "time_index = pd.date_range('2022-08-01',periods = len(s),freq = 'M')\n",
        "print(time_index)\n",
        "s.index = time_index\n",
        "print(s)\n",
        "s.index = [6,5,4,3,2,1]\n",
        "print(s)\n",
        "print(s[1])\n",
        "print(s.iloc[1])\n",
        "\n",
        "\n",
        "import matplotlib.pyplot as plt\n",
        "\n",
        "plt.plot(pl)\n",
        "\n",
        "plt.plot(pl);\n",
        "\n",
        "X = np.random.normal(0, 3, 100)\n",
        "X2 = np.random.normal(0, 2, 100)\n",
        "plt.plot(X);\n",
        "plt.plot(X2);\n",
        "plt.xlabel('X') \n",
        "plt.ylabel('Y')\n",
        "plt.legend(['X', 'X2']);\n",
        "\n",
        "!pip install yfinance\n",
        "\n",
        "import yfinance as yf\n",
        "\n",
        "data = yf.download(\"MSFT\", start=\"2012-1-1\", end=\"2012-6-1\") \n",
        "\n",
        "X = data['Close']\n",
        "\n",
        "R = X.pct_change()[1:]\n",
        "plt.hist(R, bins=20)\n"
      ]
    },
    {
      "cell_type": "markdown",
      "source": [
        "Intermedio"
      ],
      "metadata": {
        "id": "4SQ5Qyr_C1Sx"
      }
    },
    {
      "cell_type": "code",
      "source": [
        "plt.hist(R, bins=20);\n"
      ],
      "metadata": {
        "colab": {
          "base_uri": "https://localhost:8080/",
          "height": 282
        },
        "id": "65bxFueLC4JK",
        "outputId": "11e80ff6-fb3d-486b-ef66-b5381e050a83"
      },
      "execution_count": null,
      "outputs": [
        {
          "output_type": "execute_result",
          "data": {
            "text/plain": [
              "0.0009210802693082027"
            ]
          },
          "metadata": {},
          "execution_count": 64
        },
        {
          "output_type": "display_data",
          "data": {
            "text/plain": [
              "<Figure size 432x288 with 1 Axes>"
            ],
            "image/png": "[encoded data removed]"
          },
          "metadata": {
            "needs_background": "light"
          }
        }
      ]
    },
    {
      "cell_type": "code",
      "source": [
        "\n",
        "print(np.mean(R))\n",
        "\n",
        "print(np.std(R))\n",
        "\n",
        "plt.hist(np.random.normal(np.mean(R), np.std(R), 10000), bins=20);\n"
      ],
      "metadata": {
        "colab": {
          "base_uri": "https://localhost:8080/",
          "height": 300
        },
        "id": "XXToADOJDJDt",
        "outputId": "cc79c56b-ae52-4f3d-c602-327b4b865bf5"
      },
      "execution_count": null,
      "outputs": [
        {
          "output_type": "stream",
          "name": "stdout",
          "text": [
            "0.0009210802693082027\n",
            "0.012765736344424112\n"
          ]
        },
        {
          "output_type": "display_data",
          "data": {
            "text/plain": [
              "<Figure size 432x288 with 1 Axes>"
            ],
            "image/png": "[encoded data removed]"
          },
          "metadata": {
            "needs_background": "light"
          }
        }
      ]
    },
    {
      "cell_type": "code",
      "source": [
        "\n",
        "MAVG = X.rolling(2).mean()\n",
        "plt.plot(X.index, X.values);\n",
        "plt.plot(MAVG.index, MAVG.values);"
      ],
      "metadata": {
        "colab": {
          "base_uri": "https://localhost:8080/",
          "height": 265
        },
        "id": "YzYxZVs_EdIr",
        "outputId": "a45a3056-e903-40ba-d469-475b9487030c"
      },
      "execution_count": null,
      "outputs": [
        {
          "output_type": "display_data",
          "data": {
            "text/plain": [
              "<Figure size 432x288 with 1 Axes>"
            ],
            "image/png": "[encoded data removed]"
          },
          "metadata": {
            "needs_background": "light"
          }
        }
      ]
    },
    {
      "cell_type": "code",
      "source": [
        "\n",
        "def h_mundo():\n",
        "    \"\"\" Muestra hola mundo! \"\"\"\n",
        "    print ('hola mundo!')\n",
        "h_mundo()\n",
        "\n",
        "for i in range(2):\n",
        "    h_mundo()\n",
        "\n",
        "def free():\n",
        "    interna = \"mensaje\"\n",
        "    return interna\n",
        "my_string = free()\n",
        "print (my_string)\n",
        "\n",
        "def x4(x):\n",
        "    return x * 4\n",
        "\n",
        "n = 2\n",
        "print (n)\n",
        "print (x4(n))\n",
        "\n",
        "def vol(x, y, z):\n",
        "    return x*y*z\n",
        "x = 4\n",
        "y = 5\n",
        "z = 10\n",
        "print ('Volumen: ', vol(x, y, z))\n",
        "\n",
        "def suma(*args):\n",
        "    suma_val = 0\n",
        "    for i in args:\n",
        "        suma_val += i\n",
        "    return suma_val\n",
        "print (suma(1, 2, 3))\n",
        "\n",
        "dict_data = {\n",
        "    'a' : [1, 2, 3, 4, 5],\n",
        "    'b' : ['L', 'K', 'J', 'M', 'Z'],\n",
        "    'c' : np.random.normal(0, 1, 5)\n",
        "}\n",
        "print (dict_data)\n",
        "# reorganizacion de la estructura de datos\n",
        "frame_data = pd.DataFrame(dict_data, index=pd.date_range('2016-01-01', periods=5))\n",
        "print (frame_data)\n",
        "\n",
        "s_1 = pd.Series([2, 4, 6, ], name='Pares')\n",
        "s_2 = pd.Series([1, 3, 5, 7, 9], name=\"inpar\")\n",
        "numeros = pd.concat([s_1, s_2], axis=1)\n",
        "print (numeros)"
      ],
      "metadata": {
        "colab": {
          "base_uri": "https://localhost:8080/"
        },
        "id": "IJaRxoN2Ew1_",
        "outputId": "716fe9d0-aa8a-4cc8-c8b0-60bb15dad7eb"
      },
      "execution_count": null,
      "outputs": [
        {
          "output_type": "stream",
          "name": "stdout",
          "text": [
            "hola mundo!\n",
            "hola mundo!\n",
            "hola mundo!\n",
            "mensaje\n",
            "2\n",
            "8\n",
            "Volumen:  200\n",
            "6\n",
            "{'a': [1, 2, 3, 4, 5], 'b': ['L', 'K', 'J', 'M', 'Z'], 'c': array([ 1.59576555,  0.48192974, -1.20977467,  0.05378242,  0.49074555])}\n",
            "            a  b         c\n",
            "2016-01-01  1  L  1.595766\n",
            "2016-01-02  2  K  0.481930\n",
            "2016-01-03  3  J -1.209775\n",
            "2016-01-04  4  M  0.053782\n",
            "2016-01-05  5  Z  0.490746\n",
            "   Pares  inpar\n",
            "0    2.0      1\n",
            "1    4.0      3\n",
            "2    6.0      5\n",
            "3    NaN      7\n",
            "4    NaN      9\n"
          ]
        }
      ]
    },
    {
      "cell_type": "code",
      "source": [
        "print (numeros.columns)"
      ],
      "metadata": {
        "colab": {
          "base_uri": "https://localhost:8080/"
        },
        "id": "GKZmz9F-KaE2",
        "outputId": "c503dbdc-1f33-4c68-a0fd-63b643e662aa"
      },
      "execution_count": null,
      "outputs": [
        {
          "output_type": "stream",
          "name": "stdout",
          "text": [
            "Index(['Pares', 'inpar'], dtype='object')\n"
          ]
        }
      ]
    },
    {
      "cell_type": "code",
      "source": [
        "\n",
        "print(range(10))\n",
        "print(range(1,11))\n",
        "print(range(1,11,2))\n",
        "print(list(map(len,st_list)))\n",
        "list(map(lambda x: x*2, range(10)))\n",
        "sorted([1,5,7,2,4,6,9])\n",
        "price_list = [('AA',144.09),('GO',911.71),('MS',69),('FB',150),('WMT',75.32)]\n",
        "print(sorted(price_list, key = lambda x: x[1])) \n",
        "sorted(price_list, key = lambda x: x[1],reverse = True)"
      ],
      "metadata": {
        "id": "IIQU0S-QItrp",
        "colab": {
          "base_uri": "https://localhost:8080/"
        },
        "outputId": "36e364db-94d2-4ba5-f6a8-ded9a867a9b2"
      },
      "execution_count": null,
      "outputs": [
        {
          "output_type": "stream",
          "name": "stdout",
          "text": [
            "range(0, 10)\n",
            "range(1, 11)\n",
            "range(1, 11, 2)\n",
            "[2, 2, 2, 3, 3, 1, 1, 4, 2, 4]\n",
            "[('AA', 144.09), ('FB', 150), ('GO', 911.71), ('MS', 69), ('WMT', 75.32)]\n"
          ]
        },
        {
          "output_type": "execute_result",
          "data": {
            "text/plain": [
              "[('GO', 911.71), ('FB', 150), ('AA', 144.09), ('WMT', 75.32), ('MS', 69)]"
            ]
          },
          "metadata": {},
          "execution_count": 20
        }
      ]
    },
    {
      "cell_type": "code",
      "source": [
        "class stock:\n",
        "    def __init__(self, ticker, open, close, volume):\n",
        "        self.ticker = ticker\n",
        "        self.open = open\n",
        "        self.close = close\n",
        "        self.volume = volume\n",
        "        self.rate_return = float(close)/open - 1\n",
        " \n",
        "    def update(self, open, close):\n",
        "        self.open = open\n",
        "        self.close = close\n",
        "        self.rate_return = float(self.close)/self.open - 1\n",
        " \n",
        "    def print_return(self):\n",
        "        print(self.rate_return)\n",
        "apple = stock('AAPL', 143.69, 144.09, 20109375)\n",
        "google = stock('GOOG', 898.7, 911.7, 1561616)\n",
        "apple.ticker\n",
        "google.print_return()\n",
        "google.update(912.8,913.4)\n",
        "google.print_return()\n",
        "v = np.array([1, 2, np.nan, 4, 5])\n",
        "print (v)\n",
        "np.isnan(v)\n",
        "ix = ~np.isnan(v) \n",
        "print (np.mean(v[ix]))\n",
        "print (np.nanmean(v))"
      ],
      "metadata": {
        "colab": {
          "base_uri": "https://localhost:8080/"
        },
        "id": "VTeLka0wYckc",
        "outputId": "698dca7d-cda5-4f55-81cc-e6b3f806f0e6"
      },
      "execution_count": null,
      "outputs": [
        {
          "output_type": "stream",
          "name": "stdout",
          "text": [
            "0.014465338822744034\n",
            "0.0006573181419806673\n",
            "[ 1.  2. nan  4.  5.]\n",
            "3.0\n",
            "3.0\n"
          ]
        }
      ]
    },
    {
      "cell_type": "code",
      "source": [
        "A = np.array([\n",
        "        [1, 2, 3, 12, 6],\n",
        "        [4, 5, 6, 15, 20],\n",
        "        [7, 8, 9, 10, 10]       \n",
        "        ])\n",
        "B = np.array([\n",
        "        [4, 4, 2],\n",
        "        [2, 3, 1],\n",
        "        [6, 5, 8],\n",
        "        [9, 9, 9]\n",
        "    ])\n",
        "print (np.dot(B, A))"
      ],
      "metadata": {
        "colab": {
          "base_uri": "https://localhost:8080/"
        },
        "id": "GSdGXzBxfcRr",
        "outputId": "d1d3fbdf-0c43-41e6-f1da-6e8bde9b7d9d"
      },
      "execution_count": null,
      "outputs": [
        {
          "output_type": "stream",
          "name": "stdout",
          "text": [
            "[[ 34  44  54 128 124]\n",
            " [ 21  27  33  79  82]\n",
            " [ 82 101 120 227 216]\n",
            " [108 135 162 333 324]]\n"
          ]
        }
      ]
    },
    {
      "cell_type": "code",
      "source": [
        "print (np.transpose(A))"
      ],
      "metadata": {
        "colab": {
          "base_uri": "https://localhost:8080/"
        },
        "id": "0luIysgJfrcU",
        "outputId": "64016310-65c5-4a9a-cc45-e8215ace7a72"
      },
      "execution_count": null,
      "outputs": [
        {
          "output_type": "stream",
          "name": "stdout",
          "text": [
            "[[ 1  4  7]\n",
            " [ 2  5  8]\n",
            " [ 3  6  9]\n",
            " [12 15 10]\n",
            " [ 6 20 10]]\n"
          ]
        }
      ]
    }
  ]
}